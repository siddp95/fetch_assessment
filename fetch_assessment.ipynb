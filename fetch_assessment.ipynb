{
 "cells": [
  {
   "cell_type": "markdown",
   "metadata": {},
   "source": [
    "# Fetch Take Home Assessment - Siddarth Puliyanda"
   ]
  },
  {
   "cell_type": "markdown",
   "metadata": {},
   "source": [
    "### 1. Explore the Data"
   ]
  },
  {
   "cell_type": "markdown",
   "metadata": {},
   "source": [
    "Here is an outline of the steps I am going to take with exploring the data:\n",
    "- Read in all 3 table (products, transaction, users) and visually analyze the first 3 rows of each\n",
    "- Check the size, datatype, and count of nulls of each dataframe\n",
    "- Analyze individual columns from each dataframe to gather information about the blank cells, number of unique values, and more\n",
    "\n",
    "\n",
    "Note:\n",
    "- I will not be changing any values of the dataframes at this point, only exploring the data\n",
    "- I will be adding my comments to the code, as well as written thoughts at the end of the section"
   ]
  },
  {
   "cell_type": "code",
   "execution_count": 1,
   "metadata": {},
   "outputs": [
    {
     "name": "stderr",
     "output_type": "stream",
     "text": [
      "/Users/siddthekidd/opt/anaconda3/lib/python3.9/site-packages/pandas/core/computation/expressions.py:21: UserWarning: Pandas requires version '2.8.4' or newer of 'numexpr' (version '2.7.3' currently installed).\n",
      "  from pandas.core.computation.check import NUMEXPR_INSTALLED\n",
      "/Users/siddthekidd/opt/anaconda3/lib/python3.9/site-packages/pandas/core/arrays/masked.py:60: UserWarning: Pandas requires version '1.3.6' or newer of 'bottleneck' (version '1.3.2' currently installed).\n",
      "  from pandas.core import (\n"
     ]
    }
   ],
   "source": [
    "import pandas as pd\n",
    "import numpy as np\n",
    "import matplotlib.pyplot as plt\n",
    "import seaborn as sns\n",
    "pd.set_option('display.max_columns', None)\n",
    "pd.set_option('display.max_rows', None)\n"
   ]
  },
  {
   "cell_type": "code",
   "execution_count": 2,
   "metadata": {},
   "outputs": [],
   "source": [
    "##Load all 3 dataframes\n",
    "products = pd.read_csv('PRODUCTS_TAKEHOME.csv') #products dataframe\n",
    "transaction = pd.read_csv('TRANSACTION_TAKEHOME.csv') #transaction dataframe\n",
    "users = pd.read_csv('USER_TAKEHOME.csv') #users dataframe"
   ]
  },
  {
   "cell_type": "code",
   "execution_count": 3,
   "metadata": {},
   "outputs": [
    {
     "data": {
      "text/html": [
       "<div>\n",
       "<style scoped>\n",
       "    .dataframe tbody tr th:only-of-type {\n",
       "        vertical-align: middle;\n",
       "    }\n",
       "\n",
       "    .dataframe tbody tr th {\n",
       "        vertical-align: top;\n",
       "    }\n",
       "\n",
       "    .dataframe thead th {\n",
       "        text-align: right;\n",
       "    }\n",
       "</style>\n",
       "<table border=\"1\" class=\"dataframe\">\n",
       "  <thead>\n",
       "    <tr style=\"text-align: right;\">\n",
       "      <th></th>\n",
       "      <th>CATEGORY_1</th>\n",
       "      <th>CATEGORY_2</th>\n",
       "      <th>CATEGORY_3</th>\n",
       "      <th>CATEGORY_4</th>\n",
       "      <th>MANUFACTURER</th>\n",
       "      <th>BRAND</th>\n",
       "      <th>BARCODE</th>\n",
       "    </tr>\n",
       "  </thead>\n",
       "  <tbody>\n",
       "    <tr>\n",
       "      <th>0</th>\n",
       "      <td>Health &amp; Wellness</td>\n",
       "      <td>Sexual Health</td>\n",
       "      <td>Conductivity Gels &amp; Lotions</td>\n",
       "      <td>NaN</td>\n",
       "      <td>NaN</td>\n",
       "      <td>NaN</td>\n",
       "      <td>7.964944e+11</td>\n",
       "    </tr>\n",
       "    <tr>\n",
       "      <th>1</th>\n",
       "      <td>Snacks</td>\n",
       "      <td>Puffed Snacks</td>\n",
       "      <td>Cheese Curls &amp; Puffs</td>\n",
       "      <td>NaN</td>\n",
       "      <td>NaN</td>\n",
       "      <td>NaN</td>\n",
       "      <td>2.327801e+10</td>\n",
       "    </tr>\n",
       "    <tr>\n",
       "      <th>2</th>\n",
       "      <td>Health &amp; Wellness</td>\n",
       "      <td>Hair Care</td>\n",
       "      <td>Hair Care Accessories</td>\n",
       "      <td>NaN</td>\n",
       "      <td>PLACEHOLDER MANUFACTURER</td>\n",
       "      <td>ELECSOP</td>\n",
       "      <td>4.618178e+11</td>\n",
       "    </tr>\n",
       "  </tbody>\n",
       "</table>\n",
       "</div>"
      ],
      "text/plain": [
       "          CATEGORY_1     CATEGORY_2                   CATEGORY_3 CATEGORY_4  \\\n",
       "0  Health & Wellness  Sexual Health  Conductivity Gels & Lotions        NaN   \n",
       "1             Snacks  Puffed Snacks         Cheese Curls & Puffs        NaN   \n",
       "2  Health & Wellness      Hair Care        Hair Care Accessories        NaN   \n",
       "\n",
       "               MANUFACTURER    BRAND       BARCODE  \n",
       "0                       NaN      NaN  7.964944e+11  \n",
       "1                       NaN      NaN  2.327801e+10  \n",
       "2  PLACEHOLDER MANUFACTURER  ELECSOP  4.618178e+11  "
      ]
     },
     "metadata": {},
     "output_type": "display_data"
    },
    {
     "data": {
      "text/html": [
       "<div>\n",
       "<style scoped>\n",
       "    .dataframe tbody tr th:only-of-type {\n",
       "        vertical-align: middle;\n",
       "    }\n",
       "\n",
       "    .dataframe tbody tr th {\n",
       "        vertical-align: top;\n",
       "    }\n",
       "\n",
       "    .dataframe thead th {\n",
       "        text-align: right;\n",
       "    }\n",
       "</style>\n",
       "<table border=\"1\" class=\"dataframe\">\n",
       "  <thead>\n",
       "    <tr style=\"text-align: right;\">\n",
       "      <th></th>\n",
       "      <th>RECEIPT_ID</th>\n",
       "      <th>PURCHASE_DATE</th>\n",
       "      <th>SCAN_DATE</th>\n",
       "      <th>STORE_NAME</th>\n",
       "      <th>USER_ID</th>\n",
       "      <th>BARCODE</th>\n",
       "      <th>FINAL_QUANTITY</th>\n",
       "      <th>FINAL_SALE</th>\n",
       "    </tr>\n",
       "  </thead>\n",
       "  <tbody>\n",
       "    <tr>\n",
       "      <th>0</th>\n",
       "      <td>0000d256-4041-4a3e-adc4-5623fb6e0c99</td>\n",
       "      <td>2024-08-21</td>\n",
       "      <td>2024-08-21 14:19:06.539 Z</td>\n",
       "      <td>WALMART</td>\n",
       "      <td>63b73a7f3d310dceeabd4758</td>\n",
       "      <td>1.530001e+10</td>\n",
       "      <td>1.00</td>\n",
       "      <td></td>\n",
       "    </tr>\n",
       "    <tr>\n",
       "      <th>1</th>\n",
       "      <td>0001455d-7a92-4a7b-a1d2-c747af1c8fd3</td>\n",
       "      <td>2024-07-20</td>\n",
       "      <td>2024-07-20 09:50:24.206 Z</td>\n",
       "      <td>ALDI</td>\n",
       "      <td>62c08877baa38d1a1f6c211a</td>\n",
       "      <td>NaN</td>\n",
       "      <td>zero</td>\n",
       "      <td>1.49</td>\n",
       "    </tr>\n",
       "    <tr>\n",
       "      <th>2</th>\n",
       "      <td>00017e0a-7851-42fb-bfab-0baa96e23586</td>\n",
       "      <td>2024-08-18</td>\n",
       "      <td>2024-08-19 15:38:56.813 Z</td>\n",
       "      <td>WALMART</td>\n",
       "      <td>60842f207ac8b7729e472020</td>\n",
       "      <td>7.874223e+10</td>\n",
       "      <td>1.00</td>\n",
       "      <td></td>\n",
       "    </tr>\n",
       "  </tbody>\n",
       "</table>\n",
       "</div>"
      ],
      "text/plain": [
       "                             RECEIPT_ID PURCHASE_DATE  \\\n",
       "0  0000d256-4041-4a3e-adc4-5623fb6e0c99    2024-08-21   \n",
       "1  0001455d-7a92-4a7b-a1d2-c747af1c8fd3    2024-07-20   \n",
       "2  00017e0a-7851-42fb-bfab-0baa96e23586    2024-08-18   \n",
       "\n",
       "                   SCAN_DATE STORE_NAME                   USER_ID  \\\n",
       "0  2024-08-21 14:19:06.539 Z    WALMART  63b73a7f3d310dceeabd4758   \n",
       "1  2024-07-20 09:50:24.206 Z       ALDI  62c08877baa38d1a1f6c211a   \n",
       "2  2024-08-19 15:38:56.813 Z    WALMART  60842f207ac8b7729e472020   \n",
       "\n",
       "        BARCODE FINAL_QUANTITY FINAL_SALE  \n",
       "0  1.530001e+10           1.00             \n",
       "1           NaN           zero       1.49  \n",
       "2  7.874223e+10           1.00             "
      ]
     },
     "metadata": {},
     "output_type": "display_data"
    },
    {
     "data": {
      "text/html": [
       "<div>\n",
       "<style scoped>\n",
       "    .dataframe tbody tr th:only-of-type {\n",
       "        vertical-align: middle;\n",
       "    }\n",
       "\n",
       "    .dataframe tbody tr th {\n",
       "        vertical-align: top;\n",
       "    }\n",
       "\n",
       "    .dataframe thead th {\n",
       "        text-align: right;\n",
       "    }\n",
       "</style>\n",
       "<table border=\"1\" class=\"dataframe\">\n",
       "  <thead>\n",
       "    <tr style=\"text-align: right;\">\n",
       "      <th></th>\n",
       "      <th>ID</th>\n",
       "      <th>CREATED_DATE</th>\n",
       "      <th>BIRTH_DATE</th>\n",
       "      <th>STATE</th>\n",
       "      <th>LANGUAGE</th>\n",
       "      <th>GENDER</th>\n",
       "    </tr>\n",
       "  </thead>\n",
       "  <tbody>\n",
       "    <tr>\n",
       "      <th>0</th>\n",
       "      <td>5ef3b4f17053ab141787697d</td>\n",
       "      <td>2020-06-24 20:17:54.000 Z</td>\n",
       "      <td>2000-08-11 00:00:00.000 Z</td>\n",
       "      <td>CA</td>\n",
       "      <td>es-419</td>\n",
       "      <td>female</td>\n",
       "    </tr>\n",
       "    <tr>\n",
       "      <th>1</th>\n",
       "      <td>5ff220d383fcfc12622b96bc</td>\n",
       "      <td>2021-01-03 19:53:55.000 Z</td>\n",
       "      <td>2001-09-24 04:00:00.000 Z</td>\n",
       "      <td>PA</td>\n",
       "      <td>en</td>\n",
       "      <td>female</td>\n",
       "    </tr>\n",
       "    <tr>\n",
       "      <th>2</th>\n",
       "      <td>6477950aa55bb77a0e27ee10</td>\n",
       "      <td>2023-05-31 18:42:18.000 Z</td>\n",
       "      <td>1994-10-28 00:00:00.000 Z</td>\n",
       "      <td>FL</td>\n",
       "      <td>es-419</td>\n",
       "      <td>female</td>\n",
       "    </tr>\n",
       "  </tbody>\n",
       "</table>\n",
       "</div>"
      ],
      "text/plain": [
       "                         ID               CREATED_DATE  \\\n",
       "0  5ef3b4f17053ab141787697d  2020-06-24 20:17:54.000 Z   \n",
       "1  5ff220d383fcfc12622b96bc  2021-01-03 19:53:55.000 Z   \n",
       "2  6477950aa55bb77a0e27ee10  2023-05-31 18:42:18.000 Z   \n",
       "\n",
       "                  BIRTH_DATE STATE LANGUAGE  GENDER  \n",
       "0  2000-08-11 00:00:00.000 Z    CA   es-419  female  \n",
       "1  2001-09-24 04:00:00.000 Z    PA       en  female  \n",
       "2  1994-10-28 00:00:00.000 Z    FL   es-419  female  "
      ]
     },
     "metadata": {},
     "output_type": "display_data"
    }
   ],
   "source": [
    "##Display the first 3 rows of each dataframe\n",
    "display(products.head(3)) #products dataframe\n",
    "display(transaction.head(3)) #transaction dataframe\n",
    "display(users.head(3)) #users dataframe"
   ]
  },
  {
   "cell_type": "code",
   "execution_count": 4,
   "metadata": {},
   "outputs": [
    {
     "name": "stdout",
     "output_type": "stream",
     "text": [
      "The size of the products dataframe is: (845552, 7)\n",
      "The size of the transaction dataframe is: (50000, 8)\n",
      "The size of the users dataframe is: (100000, 6)\n"
     ]
    }
   ],
   "source": [
    "##Check size of dataframes\n",
    "print(\"The size of the products dataframe is:\", products.shape) #products shape\n",
    "print(\"The size of the transaction dataframe is:\", transaction.shape) #transaction shape\n",
    "print(\"The size of the users dataframe is:\", users.shape) #users shape"
   ]
  },
  {
   "cell_type": "code",
   "execution_count": 5,
   "metadata": {},
   "outputs": [
    {
     "name": "stdout",
     "output_type": "stream",
     "text": [
      "<class 'pandas.core.frame.DataFrame'>\n",
      "RangeIndex: 845552 entries, 0 to 845551\n",
      "Data columns (total 7 columns):\n",
      " #   Column        Non-Null Count   Dtype  \n",
      "---  ------        --------------   -----  \n",
      " 0   CATEGORY_1    845441 non-null  object \n",
      " 1   CATEGORY_2    844128 non-null  object \n",
      " 2   CATEGORY_3    784986 non-null  object \n",
      " 3   CATEGORY_4    67459 non-null   object \n",
      " 4   MANUFACTURER  619078 non-null  object \n",
      " 5   BRAND         619080 non-null  object \n",
      " 6   BARCODE       841527 non-null  float64\n",
      "dtypes: float64(1), object(6)\n",
      "memory usage: 45.2+ MB\n"
     ]
    }
   ],
   "source": [
    "##Check info of each df\n",
    "products.info()"
   ]
  },
  {
   "cell_type": "code",
   "execution_count": 6,
   "metadata": {},
   "outputs": [
    {
     "name": "stdout",
     "output_type": "stream",
     "text": [
      "<class 'pandas.core.frame.DataFrame'>\n",
      "RangeIndex: 50000 entries, 0 to 49999\n",
      "Data columns (total 8 columns):\n",
      " #   Column          Non-Null Count  Dtype  \n",
      "---  ------          --------------  -----  \n",
      " 0   RECEIPT_ID      50000 non-null  object \n",
      " 1   PURCHASE_DATE   50000 non-null  object \n",
      " 2   SCAN_DATE       50000 non-null  object \n",
      " 3   STORE_NAME      50000 non-null  object \n",
      " 4   USER_ID         50000 non-null  object \n",
      " 5   BARCODE         44238 non-null  float64\n",
      " 6   FINAL_QUANTITY  50000 non-null  object \n",
      " 7   FINAL_SALE      50000 non-null  object \n",
      "dtypes: float64(1), object(7)\n",
      "memory usage: 3.1+ MB\n"
     ]
    }
   ],
   "source": [
    "transaction.info()"
   ]
  },
  {
   "cell_type": "code",
   "execution_count": 7,
   "metadata": {},
   "outputs": [
    {
     "name": "stdout",
     "output_type": "stream",
     "text": [
      "<class 'pandas.core.frame.DataFrame'>\n",
      "RangeIndex: 100000 entries, 0 to 99999\n",
      "Data columns (total 6 columns):\n",
      " #   Column        Non-Null Count   Dtype \n",
      "---  ------        --------------   ----- \n",
      " 0   ID            100000 non-null  object\n",
      " 1   CREATED_DATE  100000 non-null  object\n",
      " 2   BIRTH_DATE    96325 non-null   object\n",
      " 3   STATE         95188 non-null   object\n",
      " 4   LANGUAGE      69492 non-null   object\n",
      " 5   GENDER        94108 non-null   object\n",
      "dtypes: object(6)\n",
      "memory usage: 4.6+ MB\n"
     ]
    }
   ],
   "source": [
    "users.info()"
   ]
  },
  {
   "cell_type": "code",
   "execution_count": 8,
   "metadata": {},
   "outputs": [
    {
     "data": {
      "text/plain": [
       "CATEGORY_1         111\n",
       "CATEGORY_2        1424\n",
       "CATEGORY_3       60566\n",
       "CATEGORY_4      778093\n",
       "MANUFACTURER    226474\n",
       "BRAND           226472\n",
       "BARCODE           4025\n",
       "dtype: int64"
      ]
     },
     "metadata": {},
     "output_type": "display_data"
    },
    {
     "data": {
      "text/plain": [
       "RECEIPT_ID           0\n",
       "PURCHASE_DATE        0\n",
       "SCAN_DATE            0\n",
       "STORE_NAME           0\n",
       "USER_ID              0\n",
       "BARCODE           5762\n",
       "FINAL_QUANTITY       0\n",
       "FINAL_SALE           0\n",
       "dtype: int64"
      ]
     },
     "metadata": {},
     "output_type": "display_data"
    },
    {
     "data": {
      "text/plain": [
       "ID                  0\n",
       "CREATED_DATE        0\n",
       "BIRTH_DATE       3675\n",
       "STATE            4812\n",
       "LANGUAGE        30508\n",
       "GENDER           5892\n",
       "dtype: int64"
      ]
     },
     "metadata": {},
     "output_type": "display_data"
    }
   ],
   "source": [
    "#Check for missing values in the dataframes\n",
    "display(products.isnull().sum()) #product null count\n",
    "display(transaction.isnull().sum()) #transaction null count\n",
    "display(users.isnull().sum()) #users null count"
   ]
  },
  {
   "cell_type": "markdown",
   "metadata": {},
   "source": [
    "##### Products Table"
   ]
  },
  {
   "cell_type": "code",
   "execution_count": 9,
   "metadata": {},
   "outputs": [
    {
     "data": {
      "text/plain": [
       "Index(['CATEGORY_1', 'CATEGORY_2', 'CATEGORY_3', 'CATEGORY_4', 'MANUFACTURER',\n",
       "       'BRAND', 'BARCODE'],\n",
       "      dtype='object')"
      ]
     },
     "execution_count": 9,
     "metadata": {},
     "output_type": "execute_result"
    }
   ],
   "source": [
    "##Display column headers for products dataframe\n",
    "products.columns"
   ]
  },
  {
   "cell_type": "code",
   "execution_count": 49,
   "metadata": {},
   "outputs": [
    {
     "data": {
      "text/plain": [
       "MANUFACTURER\n",
       "PLACEHOLDER MANUFACTURER    86902\n",
       "PROCTER & GAMBLE            21065\n",
       "REM MANUFACTURER            20813\n",
       "UNILEVER                    16864\n",
       "L'OREAL                     16699\n",
       "PEPSICO                     14468\n",
       "JOHNSON & JOHNSON           10443\n",
       "THE HERSHEY COMPANY         10222\n",
       "MARS WRIGLEY                 9732\n",
       "MONDELĒZ INTERNATIONAL       7250\n",
       "Name: count, dtype: int64"
      ]
     },
     "metadata": {},
     "output_type": "display_data"
    },
    {
     "name": "stdout",
     "output_type": "stream",
     "text": [
      "4354\n"
     ]
    }
   ],
   "source": [
    "##Analyze MANUFACTURER column in products dataframe\n",
    "display(products['MANUFACTURER'].value_counts().head(10)) #Total count for each manufacturer\n",
    "#21065 are PLACEHOLDER MANUFACTURER\n",
    "\n",
    "print(products['MANUFACTURER'].nunique()) #Count of unique manufacturers\n",
    "#4354 unique manufacturers"
   ]
  },
  {
   "cell_type": "code",
   "execution_count": 52,
   "metadata": {},
   "outputs": [
    {
     "data": {
      "text/plain": [
       "BRAND\n",
       "REM BRAND          20813\n",
       "BRAND NOT KNOWN    17025\n",
       "PRIVATE LABEL      13467\n",
       "CVS                 6400\n",
       "SEGO                4831\n",
       "MEIJER              4050\n",
       "DOVE                3857\n",
       "RITE AID            3238\n",
       "MATRIX              2958\n",
       "EQUATE              2946\n",
       "Name: count, dtype: int64"
      ]
     },
     "metadata": {},
     "output_type": "display_data"
    },
    {
     "name": "stdout",
     "output_type": "stream",
     "text": [
      "8122\n"
     ]
    }
   ],
   "source": [
    "##Analyze BRAND column in products dataframe\n",
    "display(products['BRAND'].value_counts().head(10)) #Total count for each brand\n",
    "#17025 are BRAND NOT KNOWN\n",
    "\n",
    "print(products['BRAND'].nunique()) #Count of unique brand\n",
    "#8122 unique brands"
   ]
  },
  {
   "cell_type": "code",
   "execution_count": 12,
   "metadata": {},
   "outputs": [
    {
     "data": {
      "text/plain": [
       "841342"
      ]
     },
     "execution_count": 12,
     "metadata": {},
     "output_type": "execute_result"
    }
   ],
   "source": [
    "##Display count of unique BARCODE\n",
    "products['BARCODE'].nunique() #Count of unique barcodes\n",
    "#Count of unique barcodes is the same as total number of rows with non-null barcodes (841342 barcodes)"
   ]
  },
  {
   "cell_type": "markdown",
   "metadata": {},
   "source": [
    "##### Transaction Table"
   ]
  },
  {
   "cell_type": "code",
   "execution_count": 13,
   "metadata": {},
   "outputs": [
    {
     "data": {
      "text/plain": [
       "Index(['RECEIPT_ID', 'PURCHASE_DATE', 'SCAN_DATE', 'STORE_NAME', 'USER_ID',\n",
       "       'BARCODE', 'FINAL_QUANTITY', 'FINAL_SALE'],\n",
       "      dtype='object')"
      ]
     },
     "execution_count": 13,
     "metadata": {},
     "output_type": "execute_result"
    }
   ],
   "source": [
    "##Display column headers for transactions dataframe\n",
    "transaction.columns"
   ]
  },
  {
   "cell_type": "code",
   "execution_count": 32,
   "metadata": {},
   "outputs": [
    {
     "name": "stdout",
     "output_type": "stream",
     "text": [
      "Number of rows with different dates: 26178\n"
     ]
    }
   ],
   "source": [
    "##Count of rows where PURCHASE_DATE and SCAN_DATE are not the same day\n",
    "#Convert columns to datetime\n",
    "transaction[\"PURCHASE_DATE\"] = pd.to_datetime(transaction[\"PURCHASE_DATE\"]).dt.date\n",
    "transaction[\"SCAN_DATE\"] = pd.to_datetime(transaction[\"SCAN_DATE\"]).dt.date\n",
    "\n",
    "#Count and print number rows where dates are different\n",
    "count = (transaction[\"PURCHASE_DATE\"] != transaction[\"SCAN_DATE\"]).sum()\n",
    "print(f\"Number of rows with different dates: {count}\")"
   ]
  },
  {
   "cell_type": "code",
   "execution_count": 14,
   "metadata": {},
   "outputs": [
    {
     "name": "stdout",
     "output_type": "stream",
     "text": [
      "11027\n"
     ]
    }
   ],
   "source": [
    "##Analyze BARCODE column in transaction dataframe\n",
    "print(transaction['BARCODE'].nunique()) #Count of unique barcodes\n",
    "#11027 unique barcodes"
   ]
  },
  {
   "cell_type": "code",
   "execution_count": 53,
   "metadata": {},
   "outputs": [
    {
     "data": {
      "text/plain": [
       "FINAL_QUANTITY\n",
       "1.00     35698\n",
       "zero     12500\n",
       "2.00      1285\n",
       "3.00       184\n",
       "4.00       139\n",
       "6.00        26\n",
       "5.00        22\n",
       "8.00         8\n",
       "12.00        7\n",
       "7.00         7\n",
       "Name: count, dtype: int64"
      ]
     },
     "metadata": {},
     "output_type": "display_data"
    }
   ],
   "source": [
    "##Analyze FINAL_QUANTITY column in transaction dataframe\n",
    "display(transaction['FINAL_QUANTITY'].value_counts().head(10)) #Counts for each quantity\n",
    "#12500 have a final quantity of 0, and other cells have fractional quantities"
   ]
  },
  {
   "cell_type": "code",
   "execution_count": 54,
   "metadata": {},
   "outputs": [
    {
     "data": {
      "text/plain": [
       "FINAL_SALE\n",
       "        12500\n",
       "1.25     1323\n",
       "1.00      744\n",
       "2.99      588\n",
       "1.99      586\n",
       "3.99      567\n",
       "2.00      537\n",
       "3.98      508\n",
       "4.99      484\n",
       "0.00      480\n",
       "Name: count, dtype: int64"
      ]
     },
     "metadata": {},
     "output_type": "display_data"
    }
   ],
   "source": [
    "##Analyze FINAL_SALE column in transaction dataframe\n",
    "display(transaction['FINAL_SALE'].value_counts().head(10)) #Counts for each final sale\n",
    "#12500 cells have no final sale value, and 480 have a final sale value of 0"
   ]
  },
  {
   "cell_type": "markdown",
   "metadata": {},
   "source": [
    "##### Users Table"
   ]
  },
  {
   "cell_type": "code",
   "execution_count": 22,
   "metadata": {},
   "outputs": [
    {
     "data": {
      "text/plain": [
       "Index(['ID', 'CREATED_DATE', 'BIRTH_DATE', 'STATE', 'LANGUAGE', 'GENDER'], dtype='object')"
      ]
     },
     "execution_count": 22,
     "metadata": {},
     "output_type": "execute_result"
    }
   ],
   "source": [
    "##Display column headers for users dataframe\n",
    "users.columns"
   ]
  },
  {
   "cell_type": "code",
   "execution_count": 23,
   "metadata": {},
   "outputs": [
    {
     "name": "stdout",
     "output_type": "stream",
     "text": [
      "100000\n"
     ]
    }
   ],
   "source": [
    "##Analyze ID column in users dataframe\n",
    "print(users['ID'].nunique()) #Count of unique IDs\n",
    "#All 100,000 IDs are unique"
   ]
  },
  {
   "cell_type": "code",
   "execution_count": 55,
   "metadata": {},
   "outputs": [
    {
     "data": {
      "text/plain": [
       "STATE\n",
       "TX    9028\n",
       "FL    8921\n",
       "CA    8589\n",
       "NY    5703\n",
       "IL    3794\n",
       "GA    3718\n",
       "PA    3644\n",
       "OH    3519\n",
       "NC    3399\n",
       "NJ    2899\n",
       "Name: count, dtype: int64"
      ]
     },
     "metadata": {},
     "output_type": "display_data"
    },
    {
     "name": "stdout",
     "output_type": "stream",
     "text": [
      "52\n"
     ]
    },
    {
     "data": {
      "image/png": "[encoded data removed]",
      "text/plain": [
       "<Figure size 720x360 with 1 Axes>"
      ]
     },
     "metadata": {
      "needs_background": "light"
     },
     "output_type": "display_data"
    }
   ],
   "source": [
    "##Analyze STATE column in users dataframe\n",
    "display(users['STATE'].value_counts().head(10)) #Total counts for each state\n",
    "\n",
    "print(users['STATE'].nunique()) #Count of unique states\n",
    "#52 unique states, including Washington, D.C. and Puerto Rico\n",
    "\n",
    "#Barchart for State column in users dataframe\n",
    "plt.figure(figsize=(10,5))\n",
    "sns.countplot(x='STATE', data=users, order = users['STATE'].value_counts().index)\n",
    "plt.title('Count of Users by State')\n",
    "plt.xlabel('State')\n",
    "plt.ylabel('Count')\n",
    "plt.show()"
   ]
  },
  {
   "cell_type": "code",
   "execution_count": 28,
   "metadata": {},
   "outputs": [
    {
     "data": {
      "text/plain": [
       "GENDER\n",
       "female                    64240\n",
       "male                      25829\n",
       "transgender                1772\n",
       "prefer_not_to_say          1350\n",
       "non_binary                  473\n",
       "unknown                     196\n",
       "not_listed                  180\n",
       "Non-Binary                   34\n",
       "not_specified                28\n",
       "My gender isn't listed        5\n",
       "Prefer not to say             1\n",
       "Name: count, dtype: int64"
      ]
     },
     "metadata": {},
     "output_type": "display_data"
    },
    {
     "name": "stdout",
     "output_type": "stream",
     "text": [
      "11\n"
     ]
    },
    {
     "data": {
      "image/png": "[encoded data removed]",
      "text/plain": [
       "<Figure size 720x360 with 1 Axes>"
      ]
     },
     "metadata": {
      "needs_background": "light"
     },
     "output_type": "display_data"
    }
   ],
   "source": [
    "##Analyze GENDER column in users dataframe\n",
    "display(users['GENDER'].value_counts()) #Total counts for each gender\n",
    "\n",
    "print(users['GENDER'].nunique()) #Count of unique genders\n",
    "#11 unique genders, 196 are \"unknown\" and 180 are \"not_listed\"\n",
    "\n",
    "#Barchart for GENDER column in users dataframe\n",
    "plt.figure(figsize=(10,5))\n",
    "sns.countplot(x='GENDER', data=users)\n",
    "plt.title('Count of Users by Gender')\n",
    "plt.xlabel('Gender')\n",
    "plt.ylabel('Count')\n",
    "plt.show()"
   ]
  },
  {
   "cell_type": "code",
   "execution_count": 29,
   "metadata": {},
   "outputs": [
    {
     "data": {
      "text/plain": [
       "LANGUAGE\n",
       "en        63403\n",
       "es-419     6089\n",
       "Name: count, dtype: int64"
      ]
     },
     "metadata": {},
     "output_type": "display_data"
    },
    {
     "name": "stdout",
     "output_type": "stream",
     "text": [
      "2\n"
     ]
    },
    {
     "data": {
      "image/png": "[encoded data removed]",
      "text/plain": [
       "<Figure size 720x360 with 1 Axes>"
      ]
     },
     "metadata": {
      "needs_background": "light"
     },
     "output_type": "display_data"
    }
   ],
   "source": [
    "##Analyze LANGUAGE column in users dataframe\n",
    "display(users['LANGUAGE'].value_counts()) #Total counts for each language\n",
    "\n",
    "print(users['LANGUAGE'].nunique()) #Count of unique languages\n",
    "#Only 2 languages: English and Spanish\n",
    "\n",
    "#Barchart for LANGUAGE column in users dataframe\n",
    "plt.figure(figsize=(10,5))\n",
    "sns.countplot(x='LANGUAGE', data=users)\n",
    "plt.title('Count of Users by Language')\n",
    "plt.xlabel('Language')\n",
    "plt.ylabel('Count')\n",
    "plt.show()"
   ]
  },
  {
   "cell_type": "markdown",
   "metadata": {},
   "source": [
    "Data quality issues:\n",
    "\n",
    "1) Transactions table has duplicate rows. When a duplicative row appears, either the FINAL_QUANTITY column contains “zero” or the FINAL_SALE column is blank. I will remove these duplicates before running my analysis.\n",
    "\n",
    "2) High amount of blanks and cells that are filled in as “unknown” that are present in certain columns of the 3 datasets. Below, I will detail the key columns with blanks as well as some additional useful information.\n",
    "\n",
    "- Products Table (out of total 845,552 rows)\n",
    "    - CATEGORY_1: 111 blanks, probably not too big of an issue since it is a very small portion of the total rows\n",
    "    - CATEGORY_2/3/4: all of the remaining CATEGORY columns have an increasing number of blanks but these are probably ok staying blank as long as CATEGORY_1 is filled\n",
    "    - MANUFACTURER: 226,474 blanks and an additional 86,902 are \"Placeholder Manufacturer\"\n",
    "    - BRAND: 226,472 blanks (almost same blanks as MANUFACTURER besides 2 cells) and an additional 17,025 are \"Brand Not Known\"\n",
    "    - BARCODE: 4,025 blanks, every row has a unique barcode\n",
    "\n",
    "- Transactions Table (out of total 50,000 rows)\n",
    "    - BARCODE: 5762 blanks and 8 cells with -1 as a value (which seems like a placeholder value); this is the key to match with the Products table so having less blanks here would lead to more a robust and accurate analysis\n",
    "    - FINAL_QUANTITY: 12500 have a quantity of “zero” and a few other cells have fractional quantities, I would want to explore why zeroes and fractions exist (sometimes it is ok to have fractional quantities depending on the type of item being sold, but it could also be a data cleaning issue)\n",
    "    - FINAL_SALE: when a duplicate row occurs, the first row will have a blank FINAL_SALE value while the remaining rows with the same info\n",
    "\n",
    "- Users Table (out of total 100,000 rows)\n",
    "    - BIRTH_DATE: 3675 blanks\n",
    "    - STATE: 4812 blanks\n",
    "    - LANGUAGE: 30508 blanks\n",
    "    - GENDER: 5892 blanks, 180 are \"NOT_LISTED\" and 28 are \"NOT_SPECIFIED\""
   ]
  },
  {
   "cell_type": "markdown",
   "metadata": {},
   "source": [
    "Fields that are challenging to understand:\n",
    "\n",
    "- In the Transactions Table, I am not sure what the distinction is between PURCHASE_DATE and SCAN_DATE is. In 26,178 rows the scan date is a different day than the purchase date, but in the remaining columns the purchase date and scan date are the same. What exactly is the difference between purchasing and scanning?\n",
    "- Again the the Transactions Table, the relationship between FINAL_QUANTITY and FINAL_SALE columns in the transactions dataset is challenging to understand. When the quantity is a number greater than 1, does that mean each item in the barcode costs that much or does it mean the total quantity costs that much?\n",
    "- Finally the last challenge is how to deal with the duplicate rows in the Transactions Table. I will be removing cells where FINAL_QUANTITY and FINAL_SALE are nulls or not numeric and using this edited table for the next part of my analysis. If there is a better way to clean up these duplicates I would be open hearing about it."
   ]
  },
  {
   "cell_type": "code",
   "execution_count": 33,
   "metadata": {},
   "outputs": [
    {
     "data": {
      "text/plain": [
       "(25000, 8)"
      ]
     },
     "execution_count": 33,
     "metadata": {},
     "output_type": "execute_result"
    }
   ],
   "source": [
    "##Remove duplicate rows from transaction dataframe\n",
    "#Remove cells where FINAL SALE is not a number\n",
    "transaction_edit = transaction[transaction['FINAL_SALE'].apply(lambda x: str(x).replace('.','',1).isdigit())]\n",
    "#Remove cells where FINAL QUANTITY is not a number\n",
    "transaction_edit = transaction_edit[transaction_edit['FINAL_QUANTITY'].apply(lambda x: str(x).replace('.','',1).isdigit())]\n",
    "transaction_edit.shape\n",
    "#25,000 rows in the new dataframe with duplicates removed"
   ]
  },
  {
   "cell_type": "markdown",
   "metadata": {},
   "source": [
    "# 2. SQL Queries"
   ]
  },
  {
   "cell_type": "markdown",
   "metadata": {},
   "source": [
    "For the SQL analysis, I will use SQLite3 as my SQL library/language since it is easiest for me to use within a Python notebook file. SQLite3 queries are slightly different than MySQL or PostgreSQL queries but are easy to convert to the different types of SQL languages. Here are the steps I will take:\n",
    "- Load the 3 tables into a SQLite3 database named \"fetch.db\"\n",
    "- Write a query for each of the 3 selected questions from the assessment instructions\n",
    "- The answer to each question will be in a markdown cell directly below the query cell, and all questions/answers will be restated after the last question"
   ]
  },
  {
   "cell_type": "code",
   "execution_count": 39,
   "metadata": {},
   "outputs": [],
   "source": [
    "import sqlite3\n",
    "\n",
    "##Load dfs to SQL database\n",
    "#Connect to the SQLite database (or create it if it doesn't exist)\n",
    "conn = sqlite3.connect('fetch.db')\n",
    "\n",
    "#Write the dfs to the SQLite database\n",
    "products.to_sql('products_table', conn, if_exists='replace', index=False)\n",
    "transaction_edit.to_sql('transaction_table', conn, if_exists='replace', index=False)\n",
    "users.to_sql('users_table', conn, if_exists='replace', index=False)\n",
    "\n",
    "#Commit and close connection to ensure tables are saved in database\n",
    "conn.commit()\n",
    "conn.close()"
   ]
  },
  {
   "cell_type": "code",
   "execution_count": null,
   "metadata": {},
   "outputs": [
    {
     "name": "stdout",
     "output_type": "stream",
     "text": [
      "('CVS', 72.0)\n",
      "('DOVE', 30.910000000000004)\n",
      "('TRIDENT', 23.36)\n",
      "('COORS LIGHT', 17.48)\n",
      "('TRESEMMÉ', 14.58)\n"
     ]
    }
   ],
   "source": [
    "##Query 1\n",
    "#Reconnect to the SQLite database\n",
    "conn = sqlite3.connect('fetch.db')\n",
    "cursor = conn.cursor()\n",
    "\n",
    "#What are the top 5 brands by sales among users that have had their account for at least six months?\n",
    "query1 = '''SELECT p.BRAND, SUM(t.FINAL_SALE) AS TOTAL_SALES\n",
    "            FROM transaction_table t\n",
    "            LEFT JOIN products_table p\n",
    "            ON p.BARCODE = t.BARCODE\n",
    "            LEFT JOIN users_table u\n",
    "            ON t.USER_ID = u.ID\n",
    "            WHERE DATE('now', '-6 months') >= DATE(u.CREATED_DATE)\n",
    "            AND p.BRAND IS NOT NULL\n",
    "            GROUP BY p.BRAND\n",
    "            ORDER BY TOTAL_SALES DESC\n",
    "            LIMIT 5;'''\n",
    "\n",
    "cursor.execute(query1)\n",
    "results1 = cursor.fetchall()\n",
    "\n",
    "#Display query results\n",
    "for result1 in results1:\n",
    "    print(result1)\n"
   ]
  },
  {
   "cell_type": "markdown",
   "metadata": {},
   "source": [
    "Question 1:\n",
    "- What are the top 5 brands by sales among users that have had their account for at least six months?\n",
    "\n",
    "Answer:\n",
    "- CVS, Dove, Trident, Coors Light, and Tresemme\n"
   ]
  },
  {
   "cell_type": "code",
   "execution_count": 48,
   "metadata": {},
   "outputs": [
    {
     "data": {
      "image/png": "[encoded data removed]",
      "text/plain": [
       "<Figure size 720x360 with 1 Axes>"
      ]
     },
     "metadata": {
      "needs_background": "light"
     },
     "output_type": "display_data"
    }
   ],
   "source": [
    "#Barchart for query 1 results\n",
    "brands = [result1[0] for result1 in results1]\n",
    "sales = [result1[1] for result1 in results1]\n",
    "\n",
    "plt.figure(figsize=(10,5))\n",
    "sns.barplot(x=brands, y=sales)\n",
    "plt.title('Top 5 Brands by Sales Among Users with Account for at Least 6 Months')\n",
    "plt.xlabel('Brand')\n",
    "plt.ylabel('Total Sales')\n",
    "plt.show()"
   ]
  },
  {
   "cell_type": "code",
   "execution_count": null,
   "metadata": {},
   "outputs": [
    {
     "name": "stdout",
     "output_type": "stream",
     "text": [
      "('TOSTITOS', 38.0)\n"
     ]
    }
   ],
   "source": [
    "##Query 2\n",
    "#Which is the leading brand in the Dips & Salsa category?\n",
    "query2 = '''SELECT p.BRAND, SUM(t.FINAL_QUANTITY) as Quantity\n",
    "            FROM transaction_table t\n",
    "            LEFT JOIN products_table p\n",
    "            ON p.BARCODE = t.BARCODE\n",
    "            WHERE p.CATEGORY_2 = 'Dips & Salsa'\n",
    "            AND p.BRAND IS NOT NULL\n",
    "            GROUP BY p.BRAND\n",
    "            ORDER BY Quantity DESC\n",
    "            LIMIT 1;'''\n",
    "\n",
    "cursor.execute(query2)\n",
    "results2 = cursor.fetchall()\n",
    "\n",
    "#Display query results\n",
    "for result2 in results2:\n",
    "    print(result2)\n"
   ]
  },
  {
   "cell_type": "markdown",
   "metadata": {},
   "source": [
    "Question 2:\n",
    "- Which is the leading brand in the Dips & Salsa category?\n",
    "\n",
    "Answer:\n",
    "- Tostitos\n"
   ]
  },
  {
   "cell_type": "code",
   "execution_count": null,
   "metadata": {},
   "outputs": [
    {
     "name": "stdout",
     "output_type": "stream",
     "text": [
      "('643059f0838dd2651fb27f50', 75.99)\n",
      "('62ffec490d9dbaff18c0a999', 26.14)\n",
      "('5f4c9055e81e6f162e3f6fa8', 18.98)\n",
      "('5d191765c8b1ba28e74e8463', 17.48)\n",
      "('61a58ac49c135b462ccddd1c', 14.989999999999998)\n"
     ]
    }
   ],
   "source": [
    "##Query 3\n",
    "#Who are Fetch's power users?\n",
    "#Power users will be defined as the top 5 users by total spend\n",
    "query3 = '''SELECT u.ID, SUM(t.FINAL_SALE) AS SPEND\n",
    "            FROM transaction_table t\n",
    "            LEFT JOIN users_table u\n",
    "            ON t.USER_ID = u.ID\n",
    "            WHERE U.ID IS NOT NULL\n",
    "            GROUP BY u.ID\n",
    "            ORDER BY SPEND DESC\n",
    "            LIMIT 5;'''\n",
    "\n",
    "cursor.execute(query3)\n",
    "results3 = cursor.fetchall()\n",
    "\n",
    "#Display query results\n",
    "for result3 in results3:\n",
    "    print(result3)\n"
   ]
  },
  {
   "cell_type": "markdown",
   "metadata": {},
   "source": [
    "Question 3:\n",
    "- Who are Fetch's power users?\n",
    "\n",
    "Answer:\n",
    "- I will define power users as the top 5 users by total spend. Here is a list of the user_ids and their corresponding total spend:\n",
    "1. 643059f0838dd2651fb27f50: $75.99\n",
    "2. 62ffec490d9dbaff18c0a999: $26.14\n",
    "3. 5f4c9055e81e6f162e3f6fa8: $18.98\n",
    "4. 5d191765c8b1ba28e74e8463: $17.48\n",
    "5. 61a58ac49c135b462ccddd1c: $14.99\n",
    "\n"
   ]
  },
  {
   "cell_type": "code",
   "execution_count": null,
   "metadata": {},
   "outputs": [
    {
     "data": {
      "image/png": "[encoded data removed]",
      "text/plain": [
       "<Figure size 720x360 with 1 Axes>"
      ]
     },
     "metadata": {
      "needs_background": "light"
     },
     "output_type": "display_data"
    }
   ],
   "source": [
    "#Barchart of result in Query 3\n",
    "#Create a dataframe from the results\n",
    "df_query3 = pd.DataFrame(results3, columns=['ID', 'SPEND'])\n",
    "#Add an index column named 'Rank'\n",
    "df_query3['Rank'] = df_query3.index + 1\n",
    "\n",
    "#Barchart for top 10 users by spend\n",
    "plt.figure(figsize=(10,5))\n",
    "sns.barplot(x='Rank', y='SPEND', data=df_query3)\n",
    "plt.title('Power Users')\n",
    "plt.xlabel('User ID')\n",
    "plt.ylabel('Total Spend')\n",
    "plt.show()"
   ]
  },
  {
   "cell_type": "markdown",
   "metadata": {},
   "source": [
    "# Communicate to Stakeholders\n",
    "\n",
    "Hi Mr. Fetch,\n",
    "\n",
    "I’ve completed my initial data analysis for the 3 datasets, which are the products, transaction, and users tables. I wanted to share some of the results of my investigation, as well as ask a few questions that would help me further my analysis.\n",
    "\n",
    "Here are the 4 data quality issues I discovered:\n",
    "1. The transaction table seems to have duplicate rows. These duplicates typically occur when the FINAL_QUANTITY column is zero or the FINAL_SALE value is blank. To ensure accurate analysis, I plan to remove these duplicates, but I’d like to confirm whether this aligns with expected business logic.\n",
    "2. There are a significant number of missing or \"unknown\" values across multiple columns in all 3 datasets, some more significant than others. Understanding whether these values can be inferred, ignored, or if we have a way to supplement them would help improve the reliability of our insights.\n",
    "3. There is a discrepancy between PURCHASE_DATE and SCAN_DATE in the transactions table. In 26,178 rows, these dates do not match, while in the remaining rows, they are the same. This raises questions about how transactions are recorded—whether scanning happens after the actual purchase, if delays exist in processing, or if some transactions are logged incorrectly. Understanding the reason for these differences could provide insights into customer behavior or potential data entry issues.\n",
    "4. I noticed that some user demographic data, like birth date, state, language, and gender, is incomplete. Do we have a way to enrich these records, or should we assume they gaps in user profiles that cannot be filled in?\n",
    "\n",
    "One interesting trend in the data I found is the significant gender imbalance among users. There are 64,240 female users compared to 25,829 male users, indicating that the our customer base has 2.48 times more female than male users. Understanding why there is such a disparity—whether it's due to targeted marketing, product preferences, or other demographic factors—could help refine user engagement strategies and drive more balanced growth in the future.\n",
    "\n",
    "To move forward, I’d appreciate some guidance on how to handle the duplicate transactions and if we already have existing processes to address missing or \"unknown\" values. Also, speaking with someone who is familiar with the data collection steps would be help ensure we’re interpreting the data correctly. Let me know if we can set up a time to discuss these questions, or an email back would also be fine.\n",
    "\n",
    "Looking forward to your thoughts!\n",
    "\n",
    "Thanks,\n",
    "\n",
    "Sid Puliyanda\n",
    "\n"
   ]
  }
 ],
 "metadata": {
  "kernelspec": {
   "display_name": "base",
   "language": "python",
   "name": "python3"
  },
  "language_info": {
   "codemirror_mode": {
    "name": "ipython",
    "version": 3
   },
   "file_extension": ".py",
   "mimetype": "text/x-python",
   "name": "python",
   "nbconvert_exporter": "python",
   "pygments_lexer": "ipython3",
   "version": "3.9.7"
  }
 },
 "nbformat": 4,
 "nbformat_minor": 2
}
